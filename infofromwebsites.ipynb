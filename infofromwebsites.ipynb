{
 "cells": [
  {
   "cell_type": "code",
   "execution_count": 1,
   "id": "a18ac662-a1bc-4463-821b-40d765fab10d",
   "metadata": {},
   "outputs": [
    {
     "name": "stdout",
     "output_type": "stream",
     "text": [
      "Requirement already satisfied: requests in c:\\users\\hanis\\appdata\\local\\programs\\python\\python311\\lib\\site-packages (2.32.3)\n",
      "Requirement already satisfied: beautifulsoup4 in c:\\users\\hanis\\appdata\\local\\programs\\python\\python311\\lib\\site-packages (4.12.3)\n",
      "Requirement already satisfied: sentence-transformers in c:\\users\\hanis\\appdata\\local\\programs\\python\\python311\\lib\\site-packages (3.3.1)\n",
      "Requirement already satisfied: faiss-cpu in c:\\users\\hanis\\appdata\\local\\programs\\python\\python311\\lib\\site-packages (1.9.0.post1)\n",
      "Requirement already satisfied: charset-normalizer<4,>=2 in c:\\users\\hanis\\appdata\\local\\programs\\python\\python311\\lib\\site-packages (from requests) (3.4.0)\n",
      "Requirement already satisfied: idna<4,>=2.5 in c:\\users\\hanis\\appdata\\local\\programs\\python\\python311\\lib\\site-packages (from requests) (3.10)\n",
      "Requirement already satisfied: urllib3<3,>=1.21.1 in c:\\users\\hanis\\appdata\\local\\programs\\python\\python311\\lib\\site-packages (from requests) (2.2.3)\n",
      "Requirement already satisfied: certifi>=2017.4.17 in c:\\users\\hanis\\appdata\\local\\programs\\python\\python311\\lib\\site-packages (from requests) (2024.8.30)\n",
      "Requirement already satisfied: soupsieve>1.2 in c:\\users\\hanis\\appdata\\local\\programs\\python\\python311\\lib\\site-packages (from beautifulsoup4) (2.6)\n",
      "Requirement already satisfied: transformers<5.0.0,>=4.41.0 in c:\\users\\hanis\\appdata\\local\\programs\\python\\python311\\lib\\site-packages (from sentence-transformers) (4.47.0)\n",
      "Requirement already satisfied: tqdm in c:\\users\\hanis\\appdata\\local\\programs\\python\\python311\\lib\\site-packages (from sentence-transformers) (4.67.1)\n",
      "Requirement already satisfied: torch>=1.11.0 in c:\\users\\hanis\\appdata\\local\\programs\\python\\python311\\lib\\site-packages (from sentence-transformers) (2.5.1)\n",
      "Requirement already satisfied: scikit-learn in c:\\users\\hanis\\appdata\\local\\programs\\python\\python311\\lib\\site-packages (from sentence-transformers) (1.5.2)\n",
      "Requirement already satisfied: scipy in c:\\users\\hanis\\appdata\\local\\programs\\python\\python311\\lib\\site-packages (from sentence-transformers) (1.14.1)\n",
      "Requirement already satisfied: huggingface-hub>=0.20.0 in c:\\users\\hanis\\appdata\\local\\programs\\python\\python311\\lib\\site-packages (from sentence-transformers) (0.26.5)\n",
      "Requirement already satisfied: Pillow in c:\\users\\hanis\\appdata\\local\\programs\\python\\python311\\lib\\site-packages (from sentence-transformers) (11.0.0)\n",
      "Requirement already satisfied: numpy<3.0,>=1.25.0 in c:\\users\\hanis\\appdata\\local\\programs\\python\\python311\\lib\\site-packages (from faiss-cpu) (2.0.2)\n",
      "Requirement already satisfied: packaging in c:\\users\\hanis\\appdata\\local\\programs\\python\\python311\\lib\\site-packages (from faiss-cpu) (24.1)\n",
      "Requirement already satisfied: filelock in c:\\users\\hanis\\appdata\\local\\programs\\python\\python311\\lib\\site-packages (from huggingface-hub>=0.20.0->sentence-transformers) (3.16.1)\n",
      "Requirement already satisfied: fsspec>=2023.5.0 in c:\\users\\hanis\\appdata\\local\\programs\\python\\python311\\lib\\site-packages (from huggingface-hub>=0.20.0->sentence-transformers) (2024.10.0)\n",
      "Requirement already satisfied: pyyaml>=5.1 in c:\\users\\hanis\\appdata\\local\\programs\\python\\python311\\lib\\site-packages (from huggingface-hub>=0.20.0->sentence-transformers) (6.0.2)\n",
      "Requirement already satisfied: typing-extensions>=3.7.4.3 in c:\\users\\hanis\\appdata\\local\\programs\\python\\python311\\lib\\site-packages (from huggingface-hub>=0.20.0->sentence-transformers) (4.12.2)\n",
      "Requirement already satisfied: networkx in c:\\users\\hanis\\appdata\\local\\programs\\python\\python311\\lib\\site-packages (from torch>=1.11.0->sentence-transformers) (3.4.2)\n",
      "Requirement already satisfied: jinja2 in c:\\users\\hanis\\appdata\\local\\programs\\python\\python311\\lib\\site-packages (from torch>=1.11.0->sentence-transformers) (3.1.4)\n",
      "Requirement already satisfied: sympy==1.13.1 in c:\\users\\hanis\\appdata\\local\\programs\\python\\python311\\lib\\site-packages (from torch>=1.11.0->sentence-transformers) (1.13.1)\n",
      "Requirement already satisfied: mpmath<1.4,>=1.1.0 in c:\\users\\hanis\\appdata\\local\\programs\\python\\python311\\lib\\site-packages (from sympy==1.13.1->torch>=1.11.0->sentence-transformers) (1.3.0)\n",
      "Requirement already satisfied: colorama in c:\\users\\hanis\\appdata\\local\\programs\\python\\python311\\lib\\site-packages (from tqdm->sentence-transformers) (0.4.6)\n",
      "Requirement already satisfied: regex!=2019.12.17 in c:\\users\\hanis\\appdata\\local\\programs\\python\\python311\\lib\\site-packages (from transformers<5.0.0,>=4.41.0->sentence-transformers) (2024.11.6)\n",
      "Requirement already satisfied: tokenizers<0.22,>=0.21 in c:\\users\\hanis\\appdata\\local\\programs\\python\\python311\\lib\\site-packages (from transformers<5.0.0,>=4.41.0->sentence-transformers) (0.21.0)\n",
      "Requirement already satisfied: safetensors>=0.4.1 in c:\\users\\hanis\\appdata\\local\\programs\\python\\python311\\lib\\site-packages (from transformers<5.0.0,>=4.41.0->sentence-transformers) (0.4.5)\n",
      "Requirement already satisfied: joblib>=1.2.0 in c:\\users\\hanis\\appdata\\local\\programs\\python\\python311\\lib\\site-packages (from scikit-learn->sentence-transformers) (1.4.2)\n",
      "Requirement already satisfied: threadpoolctl>=3.1.0 in c:\\users\\hanis\\appdata\\local\\programs\\python\\python311\\lib\\site-packages (from scikit-learn->sentence-transformers) (3.5.0)\n",
      "Requirement already satisfied: MarkupSafe>=2.0 in c:\\users\\hanis\\appdata\\local\\programs\\python\\python311\\lib\\site-packages (from jinja2->torch>=1.11.0->sentence-transformers) (3.0.2)\n"
     ]
    }
   ],
   "source": [
    "!pip install requests beautifulsoup4 sentence-transformers faiss-cpu"
   ]
  },
  {
   "cell_type": "code",
   "execution_count": 5,
   "id": "5f592c92-4cd7-4aae-89ff-3a24ce64e8b7",
   "metadata": {},
   "outputs": [
    {
     "name": "stdout",
     "output_type": "stream",
     "text": [
      "LATEST NEWS Go 'Inside the Lab' at UChicago The Day Tomorrow Began We value rigorous inquiry A diversity of people and ideas, coupled with free and open discourse, lays the foundation for students and scholars to bring forth original ideas that define fields and enrich human life. We foster independent thinking Transformative education UChicago students develop the habits of mind and intellectual skills needed to confront complex challenges. Field-defining research UChicago researchers have cont\n"
     ]
    }
   ],
   "source": [
    "import requests\n",
    "from bs4 import BeautifulSoup\n",
    "\n",
    "def scrape_website(url):\n",
    "    headers = {\n",
    "        'User-Agent': 'Mozilla/5.0 (Windows NT 10.0; Win64; x64) AppleWebKit/537.36 (KHTML, like Gecko) Chrome/91.0.4472.124 Safari/537.36'\n",
    "    }\n",
    "    try:\n",
    "        response = requests.get(url, headers=headers, timeout=10)  # Added headers\n",
    "        response.raise_for_status()  # Check if the request was successful\n",
    "        soup = BeautifulSoup(response.text, 'html.parser')\n",
    "        \n",
    "        # Extract text from paragraphs and headers\n",
    "        content = ''\n",
    "        for paragraph in soup.find_all(['p', 'h1', 'h2', 'h3', 'h4', 'h5', 'h6']):\n",
    "            content += paragraph.get_text() + ' '\n",
    "        \n",
    "        return content\n",
    "    \n",
    "    except requests.exceptions.Timeout:\n",
    "        print(f\"Request to {url} timed out.\")\n",
    "    except requests.exceptions.RequestException as e:\n",
    "        print(f\"Error occurred while scraping {url}: {e}\")\n",
    "\n",
    "# Example website\n",
    "url = 'https://www.uchicago.edu/'\n",
    "content = scrape_website(url)\n",
    "if content:\n",
    "    print(content[:500])  # Print the first 500 characters of the scraped content\n"
   ]
  },
  {
   "cell_type": "code",
   "execution_count": 6,
   "id": "d4a4e85f-a20b-43d8-9600-bdd68fdc5861",
   "metadata": {},
   "outputs": [
    {
     "name": "stdout",
     "output_type": "stream",
     "text": [
      "[\"LATEST NEWS Go 'Inside the Lab' at UChicago The Day Tomorrow Began We value rigorous inquiry A diversity of people and ideas, coupled with free and open discourse, lays the foundation for students and scholars to bring forth original ideas that define fields and enrich human life\", 'We foster independent thinking Transformative education UChicago students develop the habits of mind and intellectual skills needed to confront complex challenges', 'Field-defining research UChicago researchers have contributed to some of the world’s greatest discoveries, advancements, and bodies of knowledge', 'We advance ideas and humanity Intellectual freedom Faculty have a free and challenging environment in which to pursue the most original research', 'Community impact As a community partner, we invest in Chicago’s South Side across such areas as health, education, economic growth, and the arts']\n"
     ]
    }
   ],
   "source": [
    "import re\n",
    "\n",
    "def preprocess_content(content):\n",
    "    # Remove extra spaces and newline characters\n",
    "    content = re.sub(r'\\s+', ' ', content).strip()\n",
    "    \n",
    "    # You could also remove any specific unwanted content, e.g., scripts, ads, etc.\n",
    "    \n",
    "    # Split the content into chunks (e.g., paragraphs or sentences)\n",
    "    chunks = content.split('. ')  # Simple sentence-based chunking\n",
    "    \n",
    "    return chunks\n",
    "\n",
    "# Example usage:\n",
    "processed_chunks = preprocess_content(content)\n",
    "print(processed_chunks[:5])  # Print the first 5 chunks\n"
   ]
  },
  {
   "cell_type": "code",
   "execution_count": 7,
   "id": "7557f24c-45fa-4677-ab7a-c8501a040a25",
   "metadata": {},
   "outputs": [
    {
     "name": "stdout",
     "output_type": "stream",
     "text": [
      "WARNING:tensorflow:From C:\\Users\\hanis\\AppData\\Local\\Programs\\Python\\Python311\\Lib\\site-packages\\tf_keras\\src\\losses.py:2976: The name tf.losses.sparse_softmax_cross_entropy is deprecated. Please use tf.compat.v1.losses.sparse_softmax_cross_entropy instead.\n",
      "\n"
     ]
    },
    {
     "data": {
      "application/vnd.jupyter.widget-view+json": {
       "model_id": "960a539f7e4d46049d71733da46cae8a",
       "version_major": 2,
       "version_minor": 0
      },
      "text/plain": [
       "modules.json:   0%|          | 0.00/229 [00:00<?, ?B/s]"
      ]
     },
     "metadata": {},
     "output_type": "display_data"
    },
    {
     "name": "stderr",
     "output_type": "stream",
     "text": [
      "C:\\Users\\hanis\\AppData\\Local\\Programs\\Python\\Python311\\Lib\\site-packages\\huggingface_hub\\file_download.py:139: UserWarning: `huggingface_hub` cache-system uses symlinks by default to efficiently store duplicated files but your machine does not support them in C:\\Users\\hanis\\.cache\\huggingface\\hub\\models--sentence-transformers--paraphrase-MiniLM-L6-v2. Caching files will still work but in a degraded version that might require more space on your disk. This warning can be disabled by setting the `HF_HUB_DISABLE_SYMLINKS_WARNING` environment variable. For more details, see https://huggingface.co/docs/huggingface_hub/how-to-cache#limitations.\n",
      "To support symlinks on Windows, you either need to activate Developer Mode or to run Python as an administrator. In order to activate developer mode, see this article: https://docs.microsoft.com/en-us/windows/apps/get-started/enable-your-device-for-development\n",
      "  warnings.warn(message)\n"
     ]
    },
    {
     "data": {
      "application/vnd.jupyter.widget-view+json": {
       "model_id": "b00f586c36b64f29bf73ca88487ca405",
       "version_major": 2,
       "version_minor": 0
      },
      "text/plain": [
       "config_sentence_transformers.json:   0%|          | 0.00/122 [00:00<?, ?B/s]"
      ]
     },
     "metadata": {},
     "output_type": "display_data"
    },
    {
     "data": {
      "application/vnd.jupyter.widget-view+json": {
       "model_id": "759d88611aad4489afc9e9466fbdf7cd",
       "version_major": 2,
       "version_minor": 0
      },
      "text/plain": [
       "README.md:   0%|          | 0.00/3.73k [00:00<?, ?B/s]"
      ]
     },
     "metadata": {},
     "output_type": "display_data"
    },
    {
     "data": {
      "application/vnd.jupyter.widget-view+json": {
       "model_id": "0e304cfffed847f6a618f417ccd86604",
       "version_major": 2,
       "version_minor": 0
      },
      "text/plain": [
       "sentence_bert_config.json:   0%|          | 0.00/53.0 [00:00<?, ?B/s]"
      ]
     },
     "metadata": {},
     "output_type": "display_data"
    },
    {
     "data": {
      "application/vnd.jupyter.widget-view+json": {
       "model_id": "fc6e678194094a91955c55505b008c76",
       "version_major": 2,
       "version_minor": 0
      },
      "text/plain": [
       "config.json:   0%|          | 0.00/629 [00:00<?, ?B/s]"
      ]
     },
     "metadata": {},
     "output_type": "display_data"
    },
    {
     "data": {
      "application/vnd.jupyter.widget-view+json": {
       "model_id": "a53a01cd50184b538a103363b8a8ea4c",
       "version_major": 2,
       "version_minor": 0
      },
      "text/plain": [
       "model.safetensors:   0%|          | 0.00/90.9M [00:00<?, ?B/s]"
      ]
     },
     "metadata": {},
     "output_type": "display_data"
    },
    {
     "data": {
      "application/vnd.jupyter.widget-view+json": {
       "model_id": "fef6898c5aa54519b481a11cece68362",
       "version_major": 2,
       "version_minor": 0
      },
      "text/plain": [
       "tokenizer_config.json:   0%|          | 0.00/314 [00:00<?, ?B/s]"
      ]
     },
     "metadata": {},
     "output_type": "display_data"
    },
    {
     "data": {
      "application/vnd.jupyter.widget-view+json": {
       "model_id": "0f1094dcf8644dbf96ae9b56af3cf220",
       "version_major": 2,
       "version_minor": 0
      },
      "text/plain": [
       "vocab.txt:   0%|          | 0.00/232k [00:00<?, ?B/s]"
      ]
     },
     "metadata": {},
     "output_type": "display_data"
    },
    {
     "data": {
      "application/vnd.jupyter.widget-view+json": {
       "model_id": "f64287a57d7e4ae5915e1c68d456996c",
       "version_major": 2,
       "version_minor": 0
      },
      "text/plain": [
       "tokenizer.json:   0%|          | 0.00/466k [00:00<?, ?B/s]"
      ]
     },
     "metadata": {},
     "output_type": "display_data"
    },
    {
     "data": {
      "application/vnd.jupyter.widget-view+json": {
       "model_id": "40482491dcc043fea5b977c5a5decf53",
       "version_major": 2,
       "version_minor": 0
      },
      "text/plain": [
       "special_tokens_map.json:   0%|          | 0.00/112 [00:00<?, ?B/s]"
      ]
     },
     "metadata": {},
     "output_type": "display_data"
    },
    {
     "data": {
      "application/vnd.jupyter.widget-view+json": {
       "model_id": "8ed0553a04c84f73ad63083d73fef98b",
       "version_major": 2,
       "version_minor": 0
      },
      "text/plain": [
       "1_Pooling/config.json:   0%|          | 0.00/190 [00:00<?, ?B/s]"
      ]
     },
     "metadata": {},
     "output_type": "display_data"
    },
    {
     "name": "stdout",
     "output_type": "stream",
     "text": [
      "[[-9.5018317e-05  2.5246364e-01 -6.0480308e-02 ...  2.6032147e-01\n",
      "   6.7516737e-02 -9.5251143e-02]\n",
      " [ 2.0032416e-01  9.9099755e-02 -8.4850185e-02 ...  3.7848189e-01\n",
      "  -1.8767016e-01 -9.9662736e-02]\n",
      " [-7.6629393e-02  6.2821522e-02 -1.1167585e-01 ... -2.7390134e-01\n",
      "   3.3693102e-01  3.0220547e-01]\n",
      " [-7.7397615e-02  4.7021687e-01 -3.2542434e-01 ... -1.4033307e-02\n",
      "   2.4626119e-01 -1.9174306e-01]\n",
      " [ 4.6092692e-01 -1.2000164e-01  1.6369881e-01 ... -3.8466495e-01\n",
      "  -3.8932917e-01  2.8244689e-01]]\n"
     ]
    }
   ],
   "source": [
    "from sentence_transformers import SentenceTransformer\n",
    "\n",
    "def generate_embeddings(chunks):\n",
    "    model = SentenceTransformer('paraphrase-MiniLM-L6-v2')  # Pre-trained model for generating embeddings\n",
    "    embeddings = model.encode(chunks)  # Convert chunks into embeddings\n",
    "    return embeddings\n",
    "\n",
    "# Example usage:\n",
    "embeddings = generate_embeddings(processed_chunks)\n",
    "print(embeddings[:5])  # Print the first 5 embeddings\n"
   ]
  },
  {
   "cell_type": "code",
   "execution_count": 9,
   "id": "69a8b9e5-4f64-49ea-9f51-4623309542fd",
   "metadata": {},
   "outputs": [
    {
     "name": "stdout",
     "output_type": "stream",
     "text": [
      "Requirement already satisfied: faiss-cpu in c:\\users\\hanis\\appdata\\local\\programs\\python\\python311\\lib\\site-packages (1.9.0.post1)\n",
      "Requirement already satisfied: numpy<3.0,>=1.25.0 in c:\\users\\hanis\\appdata\\local\\programs\\python\\python311\\lib\\site-packages (from faiss-cpu) (2.0.2)\n",
      "Requirement already satisfied: packaging in c:\\users\\hanis\\appdata\\local\\programs\\python\\python311\\lib\\site-packages (from faiss-cpu) (24.1)\n",
      "Note: you may need to restart the kernel to use updated packages.\n"
     ]
    }
   ],
   "source": [
    "pip install faiss-cpu  \n"
   ]
  },
  {
   "cell_type": "code",
   "execution_count": 10,
   "id": "65c755e0-929f-4718-ad30-95b6a0e141ff",
   "metadata": {},
   "outputs": [
    {
     "name": "stdout",
     "output_type": "stream",
     "text": [
      "Number of embeddings stored: 8\n"
     ]
    }
   ],
   "source": [
    "import faiss\n",
    "import numpy as np\n",
    "\n",
    "# Convert embeddings to a numpy array (FAISS uses numpy arrays)\n",
    "embedding_matrix = np.array(embeddings)\n",
    "\n",
    "# Create an index for the embeddings\n",
    "index = faiss.IndexFlatL2(embedding_matrix.shape[1])  # L2 distance metric\n",
    "index.add(embedding_matrix)  # Add embeddings to the index\n",
    "\n",
    "# Check how many vectors are stored\n",
    "print(f\"Number of embeddings stored: {index.ntotal}\")\n"
   ]
  },
  {
   "cell_type": "code",
   "execution_count": 13,
   "id": "5a9e2793-c196-45bf-a901-5d5ab3414c7f",
   "metadata": {},
   "outputs": [
    {
     "name": "stdout",
     "output_type": "stream",
     "text": [
      "Top-k indices: [[0 2 1 3 5]]\n",
      "Top-k distances: [[23.019815 30.849554 38.563217 38.577797 43.20753 ]]\n"
     ]
    }
   ],
   "source": [
    "def search_query(query, index, model, top_k=5):\n",
    "    query_embedding = model.encode([query])  # Convert query to embedding\n",
    "    query_embedding = np.array(query_embedding)  # Convert to numpy array\n",
    "    distances, indices = index.search(query_embedding, top_k)  # Search for top_k similar vectors\n",
    "    \n",
    "    return distances, indices\n",
    "\n",
    "# Example usage:\n",
    "query = \"What is the value of rigorous inquiry at UChicago?\"\n",
    "distances, indices = search_query(query, index, model)\n",
    "print(f\"Top-k indices: {indices}\")\n",
    "print(f\"Top-k distances: {distances}\")\n"
   ]
  },
  {
   "cell_type": "code",
   "execution_count": 12,
   "id": "de934e8d-d9da-4028-bd63-d88cf03d8341",
   "metadata": {},
   "outputs": [
    {
     "name": "stdout",
     "output_type": "stream",
     "text": [
      "Top-k indices: [[0 2 1 3 5]]\n",
      "Top-k distances: [[23.019815 30.849554 38.563217 38.577797 43.20753 ]]\n"
     ]
    }
   ],
   "source": [
    "from sentence_transformers import SentenceTransformer\n",
    "\n",
    "# Initialize the SentenceTransformer model\n",
    "model = SentenceTransformer('paraphrase-MiniLM-L6-v2')  # Or any other pre-trained embedding model\n",
    "\n",
    "# Example usage:\n",
    "query = \"What is the value of rigorous inquiry at UChicago?\"\n",
    "distances, indices = search_query(query, index, model)\n",
    "print(f\"Top-k indices: {indices}\")\n",
    "print(f\"Top-k distances: {distances}\")\n"
   ]
  },
  {
   "cell_type": "code",
   "execution_count": 16,
   "id": "28040e0d-b84b-4316-ae82-c3123e040d16",
   "metadata": {},
   "outputs": [],
   "source": [
    "# Example chunked data (replace this with your actual content chunks)\n",
    "chunked_data = [\n",
    "    \"We value rigorous inquiry. A diversity of people and ideas, coupled with free and open discourse...\",\n",
    "    \"Transformative education UChicago students develop the habits of mind and intellectual skills...\",\n",
    "    \"Field-defining research UChicago researchers have contributed to transformative discoveries...\",\n",
    "    # Add more chunks as needed\n",
    "]\n"
   ]
  },
  {
   "cell_type": "code",
   "execution_count": 20,
   "id": "2dd18820-bc4c-4a6f-9ef9-0eeaebab6451",
   "metadata": {},
   "outputs": [
    {
     "name": "stdout",
     "output_type": "stream",
     "text": [
      "indices: [[0 2 1 3 5]]\n",
      "chunked_data length: 3\n"
     ]
    }
   ],
   "source": [
    "print(f\"indices: {indices}\")\n",
    "print(f\"chunked_data length: {len(chunked_data)}\")\n"
   ]
  },
  {
   "cell_type": "code",
   "execution_count": 21,
   "id": "f0da30dd-73f5-49d3-b7a0-ceb62a34fa32",
   "metadata": {},
   "outputs": [],
   "source": [
    "valid_indices = [i for i in indices[0] if i < len(chunked_data)]\n"
   ]
  },
  {
   "cell_type": "code",
   "execution_count": 22,
   "id": "702e1264-aee8-480b-a80e-3bd13103acc9",
   "metadata": {},
   "outputs": [],
   "source": [
    "def retrieve_chunks(indices, chunked_data):\n",
    "    valid_indices = [i for i in indices[0] if i < len(chunked_data)]\n",
    "    relevant_chunks = [chunked_data[i] for i in valid_indices]\n",
    "    return relevant_chunks\n"
   ]
  },
  {
   "cell_type": "code",
   "execution_count": 23,
   "id": "886a1ca8-1a8b-4bd0-828b-160ab4dea1c4",
   "metadata": {},
   "outputs": [
    {
     "name": "stdout",
     "output_type": "stream",
     "text": [
      "indices: [[0 2 1 3 5]]\n",
      "chunked_data length: 3\n",
      "Retrieved Context:\n",
      "We value rigorous inquiry. A diversity of people and ideas, coupled with free and open discourse... Field-defining research UChicago researchers have contributed to transformative discoveries... Transformative education UChicago students develop the habits of mind and intellectual skills...\n"
     ]
    }
   ],
   "source": [
    "# Updated retrieve_chunks function\n",
    "def retrieve_chunks(indices, chunked_data):\n",
    "    # Validate indices to ensure they are within range\n",
    "    valid_indices = [i for i in indices[0] if i < len(chunked_data)]\n",
    "    relevant_chunks = [chunked_data[i] for i in valid_indices]\n",
    "    return relevant_chunks\n",
    "\n",
    "# Debugging outputs\n",
    "print(f\"indices: {indices}\")\n",
    "print(f\"chunked_data length: {len(chunked_data)}\")\n",
    "\n",
    "# Retrieve the relevant chunks\n",
    "relevant_chunks = retrieve_chunks(indices, chunked_data)\n",
    "context = \" \".join(relevant_chunks)  # Combine chunks into a single context\n",
    "print(\"Retrieved Context:\")\n",
    "print(context)\n"
   ]
  },
  {
   "cell_type": "code",
   "execution_count": 27,
   "id": "78f0ff07-aed8-4b97-8046-d1fba3403dd4",
   "metadata": {},
   "outputs": [
    {
     "name": "stderr",
     "output_type": "stream",
     "text": [
      "Some weights of DistilBertForQuestionAnswering were not initialized from the model checkpoint at distilbert-base-uncased and are newly initialized: ['qa_outputs.bias', 'qa_outputs.weight']\n",
      "You should probably TRAIN this model on a down-stream task to be able to use it for predictions and inference.\n",
      "Device set to use cpu\n"
     ]
    },
    {
     "name": "stdout",
     "output_type": "stream",
     "text": [
      "Generated Answer:\n",
      ", coupled with free and open discourse... Field-defining\n"
     ]
    }
   ],
   "source": [
    "from transformers import pipeline\n",
    "\n",
    "# Initialize a language generation pipeline (use an appropriate model)\n",
    "qa_pipeline = pipeline(\"question-answering\", model=\"distilbert-base-uncased\", tokenizer=\"distilbert-base-uncased\")\n",
    "\n",
    "# Use the context to answer the query\n",
    "query = \"What is the value of rigorous inquiry at UChicago?\"\n",
    "result = qa_pipeline(question=query, context=context)\n",
    "\n",
    "print(\"Generated Answer:\")\n",
    "print(result['answer'])\n"
   ]
  },
  {
   "cell_type": "code",
   "execution_count": 26,
   "id": "dbe51d4c-7654-4739-a213-1c3784aafd5b",
   "metadata": {},
   "outputs": [],
   "source": [
    "query = \"How does UChicago value rigorous inquiry, and what impact does it have?\"\n"
   ]
  },
  {
   "cell_type": "code",
   "execution_count": 28,
   "id": "cb39f54d-4915-4d7a-b57c-7bdecee3ae77",
   "metadata": {},
   "outputs": [
    {
     "data": {
      "application/vnd.jupyter.widget-view+json": {
       "model_id": "b0f2079113ea4b98bb8bb2c797c12591",
       "version_major": 2,
       "version_minor": 0
      },
      "text/plain": [
       "config.json:   0%|          | 0.00/473 [00:00<?, ?B/s]"
      ]
     },
     "metadata": {},
     "output_type": "display_data"
    },
    {
     "name": "stderr",
     "output_type": "stream",
     "text": [
      "C:\\Users\\hanis\\AppData\\Local\\Programs\\Python\\Python311\\Lib\\site-packages\\huggingface_hub\\file_download.py:139: UserWarning: `huggingface_hub` cache-system uses symlinks by default to efficiently store duplicated files but your machine does not support them in C:\\Users\\hanis\\.cache\\huggingface\\hub\\models--distilbert-base-cased-distilled-squad. Caching files will still work but in a degraded version that might require more space on your disk. This warning can be disabled by setting the `HF_HUB_DISABLE_SYMLINKS_WARNING` environment variable. For more details, see https://huggingface.co/docs/huggingface_hub/how-to-cache#limitations.\n",
      "To support symlinks on Windows, you either need to activate Developer Mode or to run Python as an administrator. In order to activate developer mode, see this article: https://docs.microsoft.com/en-us/windows/apps/get-started/enable-your-device-for-development\n",
      "  warnings.warn(message)\n"
     ]
    },
    {
     "data": {
      "application/vnd.jupyter.widget-view+json": {
       "model_id": "5c203ba31eff45e0a1c99214f44e6e24",
       "version_major": 2,
       "version_minor": 0
      },
      "text/plain": [
       "model.safetensors:   0%|          | 0.00/261M [00:00<?, ?B/s]"
      ]
     },
     "metadata": {},
     "output_type": "display_data"
    },
    {
     "data": {
      "application/vnd.jupyter.widget-view+json": {
       "model_id": "ad1bf75fec614e5d93d857ca70959fff",
       "version_major": 2,
       "version_minor": 0
      },
      "text/plain": [
       "tokenizer_config.json:   0%|          | 0.00/49.0 [00:00<?, ?B/s]"
      ]
     },
     "metadata": {},
     "output_type": "display_data"
    },
    {
     "data": {
      "application/vnd.jupyter.widget-view+json": {
       "model_id": "63f1d8522c5346d494423f4848c71bb1",
       "version_major": 2,
       "version_minor": 0
      },
      "text/plain": [
       "vocab.txt:   0%|          | 0.00/213k [00:00<?, ?B/s]"
      ]
     },
     "metadata": {},
     "output_type": "display_data"
    },
    {
     "data": {
      "application/vnd.jupyter.widget-view+json": {
       "model_id": "36368644f06d48d0aa883e2f5a0b587a",
       "version_major": 2,
       "version_minor": 0
      },
      "text/plain": [
       "tokenizer.json:   0%|          | 0.00/436k [00:00<?, ?B/s]"
      ]
     },
     "metadata": {},
     "output_type": "display_data"
    },
    {
     "name": "stderr",
     "output_type": "stream",
     "text": [
      "Device set to use cpu\n"
     ]
    },
    {
     "name": "stdout",
     "output_type": "stream",
     "text": [
      "Generated Answer: A diversity of people and ideas\n"
     ]
    }
   ],
   "source": [
    "from transformers import pipeline\n",
    "\n",
    "# Use a model fine-tuned for question answering\n",
    "qa_pipeline = pipeline(\"question-answering\", model=\"distilbert-base-cased-distilled-squad\")\n",
    "\n",
    "# Ask your question\n",
    "result = qa_pipeline(question=query, context=context)\n",
    "print(f\"Generated Answer: {result['answer']}\")\n"
   ]
  },
  {
   "cell_type": "code",
   "execution_count": 29,
   "id": "b364fcd6-5c9c-47b7-8005-112f22cf6e34",
   "metadata": {},
   "outputs": [],
   "source": [
    "top_k = 10  # Retrieve 10 chunks instead of 5 to increase the length of o\n",
    "distances, indices = search_query(query, index, model, top_k=top_k)\n"
   ]
  },
  {
   "cell_type": "code",
   "execution_count": null,
   "id": "ec64c029-bf97-40be-b2cc-26e5ce65f6dc",
   "metadata": {},
   "outputs": [],
   "source": []
  }
 ],
 "metadata": {
  "kernelspec": {
   "display_name": "Python 3 (ipykernel)",
   "language": "python",
   "name": "python3"
  },
  "language_info": {
   "codemirror_mode": {
    "name": "ipython",
    "version": 3
   },
   "file_extension": ".py",
   "mimetype": "text/x-python",
   "name": "python",
   "nbconvert_exporter": "python",
   "pygments_lexer": "ipython3",
   "version": "3.11.4"
  }
 },
 "nbformat": 4,
 "nbformat_minor": 5
}
